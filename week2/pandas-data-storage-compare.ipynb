{
 "cells": [
  {
   "cell_type": "code",
   "execution_count": null,
   "id": "67be5f87",
   "metadata": {},
   "outputs": [],
   "source": [
    "import pandas as pd\n",
    "import numpy as np\n",
    "\n",
    "FORMATS = ['clipboard', 'csv', 'feather', 'json', 'parquet', 'pickle', 'stata']\n",
    "\n",
    "def get_dataset(size):\n",
    "    # Create Fake Dataset\n",
    "    df = pd.DataFrame()\n",
    "    df['size'] = np.random.choice(['big','medium','small'], size)\n",
    "    df['age'] = np.random.randint(1, 50, size)\n",
    "    df['team'] = np.random.choice(['red','blue','yellow','green'], size)\n",
    "    df['win'] = np.random.choice(['yes','no'], size)\n",
    "    dates = pd.date_range('2020-01-01', '2022-12-31')\n",
    "    df['date'] = np.random.choice(dates, size)\n",
    "    df['prob'] = np.random.uniform(0, 1, size)\n",
    "    return df\n",
    "\n",
    "def set_dtypes(df):\n",
    "    df['size'] = df['size'].astype('category')\n",
    "    df['team'] = df['team'].astype('category')\n",
    "    df['age'] = df['age'].astype('int16')\n",
    "    df['win'] = df['win'].map({'yes':True, 'no': False})\n",
    "    df['prob'] = df['prob'].astype('float32')\n",
    "    return df"
   ]
  },
  {
   "cell_type": "code",
   "execution_count": null,
   "id": "240204b2",
   "metadata": {
    "scrolled": false
   },
   "outputs": [],
   "source": [
    "for dataset_size, size in [['small', 1e2], ['medium', 1e4], ['large', 1e6]]:\n",
    "    size = int(size)\n",
    "    print(f\"\\n---===Testing {dataset_size} dataset, {size} rows===---\")\n",
    "    df = get_dataset(size)\n",
    "    df = set_dtypes(df)\n",
    "    for func in FORMATS:\n",
    "        print('\\t', func, 'writing')\n",
    "        %time getattr(df, 'to_'+func)('dummy_file_name')\n",
    "        print('\\t', func, 'reading')\n",
    "        %time getattr(pd, 'read_'+func)('dummy_file_name')\n"
   ]
  },
  {
   "cell_type": "markdown",
   "id": "91a441fd",
   "metadata": {},
   "source": [
    "### Summary:pickle is the best data format for python by read/write speed. csv is not a good idea for fast reading/writing big files"
   ]
  },
  {
   "cell_type": "code",
   "execution_count": null,
   "id": "24fc1909",
   "metadata": {},
   "outputs": [],
   "source": []
  }
 ],
 "metadata": {
  "kernelspec": {
   "display_name": "Python 3 (ipykernel)",
   "language": "python",
   "name": "python3"
  },
  "language_info": {
   "codemirror_mode": {
    "name": "ipython",
    "version": 3
   },
   "file_extension": ".py",
   "mimetype": "text/x-python",
   "name": "python",
   "nbconvert_exporter": "python",
   "pygments_lexer": "ipython3",
   "version": "3.8.10"
  }
 },
 "nbformat": 4,
 "nbformat_minor": 5
}
