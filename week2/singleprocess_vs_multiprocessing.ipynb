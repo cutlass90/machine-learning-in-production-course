{
 "cells": [
  {
   "cell_type": "code",
   "execution_count": 1,
   "id": "e4092567",
   "metadata": {},
   "outputs": [],
   "source": [
    "from multiprocessing import Pool\n",
    "import pandas as pd\n",
    "import numpy as np\n",
    "import uuid"
   ]
  },
  {
   "cell_type": "code",
   "execution_count": 7,
   "id": "34ece5a0",
   "metadata": {},
   "outputs": [],
   "source": [
    "def get_dataset(size):\n",
    "    # Create Fake Dataset\n",
    "    df = pd.DataFrame()\n",
    "    df['size'] = np.random.choice(['big','medium','small'], size)\n",
    "    df['age'] = np.random.randint(1, 50, size)\n",
    "    df['team'] = np.random.choice(['red','blue','yellow','green'], size)\n",
    "    df['win'] = np.random.choice(['yes','no'], size)\n",
    "    dates = pd.date_range('2020-01-01', '2022-12-31')\n",
    "    df['date'] = np.random.choice(dates, size)\n",
    "    df['prob'] = np.random.uniform(0, 1, size)\n",
    "    return df\n",
    "\n",
    "def set_dtypes(df):\n",
    "    df['size'] = df['size'].astype('category')\n",
    "    df['team'] = df['team'].astype('category')\n",
    "    df['age'] = df['age'].astype('int16')\n",
    "    df['win'] = df['win'].map({'yes':True, 'no': False})\n",
    "    df['prob'] = df['prob'].astype('float32')\n",
    "    return df\n",
    "\n",
    "def heavy_function(path):\n",
    "    df = get_dataset(1000000)\n",
    "    df = set_dtypes(df)\n",
    "    name = str(uuid.uuid4())\n",
    "    df.to_csv(name)\n",
    "    pd.read_csv(name)"
   ]
  },
  {
   "cell_type": "code",
   "execution_count": 8,
   "id": "1ed3d4f9",
   "metadata": {},
   "outputs": [],
   "source": [
    "def single_process():\n",
    "    results = []\n",
    "    for _ in range(10):\n",
    "        results.append(heavy_function('dummy_file_name'))\n",
    "    return results"
   ]
  },
  {
   "cell_type": "code",
   "execution_count": 9,
   "id": "8cda1705",
   "metadata": {},
   "outputs": [
    {
     "name": "stdout",
     "output_type": "stream",
     "text": [
      "single process takes\n",
      "CPU times: user 51.7 s, sys: 1.36 s, total: 53 s\n",
      "Wall time: 53 s\n"
     ]
    }
   ],
   "source": [
    "print('single process takes')\n",
    "%time res_single = single_process()"
   ]
  },
  {
   "cell_type": "code",
   "execution_count": 10,
   "id": "41d3e02e",
   "metadata": {},
   "outputs": [],
   "source": [
    "def multi_processing():\n",
    "    with Pool(10) as pool:\n",
    "        results = pool.map(heavy_function, ['dummy_file_name']*10)\n",
    "    return results\n",
    "        "
   ]
  },
  {
   "cell_type": "code",
   "execution_count": 11,
   "id": "b2594c4c",
   "metadata": {},
   "outputs": [
    {
     "name": "stdout",
     "output_type": "stream",
     "text": [
      "multi processing takes\n",
      "CPU times: user 9.49 ms, sys: 31.9 ms, total: 41.4 ms\n",
      "Wall time: 12.8 s\n"
     ]
    }
   ],
   "source": [
    "print('multi processing takes')\n",
    "%time res_multi = multi_processing()"
   ]
  },
  {
   "cell_type": "markdown",
   "id": "2a86c24c",
   "metadata": {},
   "source": [
    "## Result: multiprocessing 4 times faster than single process for CPU consumption tasks "
   ]
  },
  {
   "cell_type": "code",
   "execution_count": null,
   "id": "83147ab1",
   "metadata": {},
   "outputs": [],
   "source": []
  }
 ],
 "metadata": {
  "kernelspec": {
   "display_name": "Python 3 (ipykernel)",
   "language": "python",
   "name": "python3"
  },
  "language_info": {
   "codemirror_mode": {
    "name": "ipython",
    "version": 3
   },
   "file_extension": ".py",
   "mimetype": "text/x-python",
   "name": "python",
   "nbconvert_exporter": "python",
   "pygments_lexer": "ipython3",
   "version": "3.8.10"
  }
 },
 "nbformat": 4,
 "nbformat_minor": 5
}
